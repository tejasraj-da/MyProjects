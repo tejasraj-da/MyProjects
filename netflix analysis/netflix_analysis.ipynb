{
 "cells": [
  {
   "cell_type": "code",
   "execution_count": 1,
   "id": "8f79bb55",
   "metadata": {},
   "outputs": [],
   "source": [
    "\n",
    "import pandas as pd\n",
    "from pymongo import MongoClient\n",
    "df=pd.read_csv(\"netflix_titles.csv\")\n",
    "df=df.where(pd.notnull(df),None)\n"
   ]
  },
  {
   "cell_type": "code",
   "execution_count": 2,
   "id": "da5099a4",
   "metadata": {},
   "outputs": [
    {
     "name": "stdout",
     "output_type": "stream",
     "text": [
      "data inserted into mongodb sucessfully\n"
     ]
    }
   ],
   "source": [
    "Client=MongoClient(\"mongodb://localhost:27017/\")\n",
    "db=Client[\"netflix_db\"]\n",
    "collection =db[\"titles\"]\n",
    "data = df.to_dict(orient=\"records\")\n",
    "collection.insert_many(data)\n",
    "print(\"data inserted into mongodb sucessfully\")"
   ]
  },
  {
   "cell_type": "code",
   "execution_count": 3,
   "id": "f8d5ceaa",
   "metadata": {},
   "outputs": [
    {
     "name": "stdout",
     "output_type": "stream",
     "text": [
      "  show_id     type                  title         director  \\\n",
      "0      s1    Movie   Dick Johnson Is Dead  Kirsten Johnson   \n",
      "1      s2  TV Show          Blood & Water             None   \n",
      "2      s3  TV Show              Ganglands  Julien Leclercq   \n",
      "3      s4  TV Show  Jailbirds New Orleans             None   \n",
      "4      s5  TV Show           Kota Factory             None   \n",
      "\n",
      "                                                cast        country  \\\n",
      "0                                               None  United States   \n",
      "1  Ama Qamata, Khosi Ngema, Gail Mabalane, Thaban...   South Africa   \n",
      "2  Sami Bouajila, Tracy Gotoas, Samuel Jouy, Nabi...           None   \n",
      "3                                               None           None   \n",
      "4  Mayur More, Jitendra Kumar, Ranjan Raj, Alam K...          India   \n",
      "\n",
      "           date_added  release_year rating   duration  \\\n",
      "0  September 25, 2021          2020  PG-13     90 min   \n",
      "1  September 24, 2021          2021  TV-MA  2 Seasons   \n",
      "2  September 24, 2021          2021  TV-MA   1 Season   \n",
      "3  September 24, 2021          2021  TV-MA   1 Season   \n",
      "4  September 24, 2021          2021  TV-MA  2 Seasons   \n",
      "\n",
      "                                           listed_in  \\\n",
      "0                                      Documentaries   \n",
      "1    International TV Shows, TV Dramas, TV Mysteries   \n",
      "2  Crime TV Shows, International TV Shows, TV Act...   \n",
      "3                             Docuseries, Reality TV   \n",
      "4  International TV Shows, Romantic TV Shows, TV ...   \n",
      "\n",
      "                                         description  \n",
      "0  As her father nears the end of his life, filmm...  \n",
      "1  After crossing paths at a party, a Cape Town t...  \n",
      "2  To protect his family from a powerful drug lor...  \n",
      "3  Feuds, flirtations and toilet talk go down amo...  \n",
      "4  In a city of coaching centers known to train I...  \n"
     ]
    }
   ],
   "source": [
    "cursor = collection.find()\n",
    "df=pd.DataFrame(list(cursor))\n",
    "df.drop(columns=['_id'],inplace=True)\n",
    "print(df.head())"
   ]
  },
  {
   "cell_type": "code",
   "execution_count": 4,
   "id": "df33ee25",
   "metadata": {},
   "outputs": [],
   "source": [
    "df['date_added'] = pd.to_datetime(df['date_added'],\n",
    "errors='coerce')\n",
    "df['year_added'] = df['date_added'].dt.year\n",
    "df['month_added'] = df['date_added'].dt.month"
   ]
  },
  {
   "cell_type": "code",
   "execution_count": 5,
   "id": "f9253c07",
   "metadata": {},
   "outputs": [],
   "source": [
    "df['year_added'] = df['date_added'].dt.year\n",
    "df['month_added'] = df['date_added'].dt.month"
   ]
  },
  {
   "cell_type": "code",
   "execution_count": 6,
   "id": "1c9d145a",
   "metadata": {},
   "outputs": [],
   "source": [
    "df[['duration_int', 'duration_type']] = df['duration'].str.extract(r'(\\d+)\\s*(\\w+)')\n",
    "df['duration_int'] = pd.to_numeric(df['duration_int'], errors='coerce')"
   ]
  },
  {
   "cell_type": "code",
   "execution_count": 7,
   "id": "d11812ea",
   "metadata": {},
   "outputs": [],
   "source": [
    "df.fillna({\n",
    "    'director': 'Unknown',\n",
    "    'cast': 'Not specified',\n",
    "    'country': 'Unknown',\n",
    "    'rating': 'Not Rated'\n",
    "}, inplace=True)"
   ]
  },
  {
   "cell_type": "code",
   "execution_count": 8,
   "id": "91cd1170",
   "metadata": {},
   "outputs": [
    {
     "name": "stdout",
     "output_type": "stream",
     "text": [
      "✅ Data cleaned and saved as 'netflix_cleaned1.csv'\n"
     ]
    }
   ],
   "source": [
    "df.to_csv(\"netflix_cleaned.csv\", index=False)\n",
    "print(\"✅ Data cleaned and saved as 'netflix_cleaned1.csv'\")"
   ]
  },
  {
   "cell_type": "code",
   "execution_count": null,
   "id": "9fd591dd",
   "metadata": {},
   "outputs": [],
   "source": [
    "import pandas as pd\n",
    "\n",
    "# Load cleaned CSV\n",
    "df_cleaned = pd.read_csv(\"netflix_cleaned.csv\")\n",
    "\n",
    "# Fill NaNs with None (MongoDB can't store NaN)\n",
    "df_cleaned = df_cleaned.where(pd.notnull(df_cleaned), None)"
   ]
  },
  {
   "cell_type": "code",
   "execution_count": null,
   "id": "3195951a",
   "metadata": {},
   "outputs": [],
   "source": [
    "from pymongo import MongoClient\n",
    "\n",
    "# Connect to MongoDB\n",
    "client = MongoClient(\"mongodb://localhost:27017/\")\n",
    "db = client[\"netflix_db\"]\n",
    "\n",
    "# OPTIONAL: Drop old cleaned collection if it exists (to avoid duplicates)\n",
    "db.drop_collection(\"titles_cleaned\")\n",
    "\n",
    "# Create a new collection\n",
    "collection_cleaned = db[\"titles_cleaned\"]"
   ]
  },
  {
   "cell_type": "code",
   "execution_count": null,
   "id": "f191ffde",
   "metadata": {},
   "outputs": [
    {
     "name": "stdout",
     "output_type": "stream",
     "text": [
      "✅ Cleaned data re-uploaded to MongoDB successfully!\n"
     ]
    }
   ],
   "source": [
    "# Convert DataFrame to dictionary\n",
    "data_dict = df_cleaned.to_dict(orient='records')\n",
    "\n",
    "# Insert into MongoDB\n",
    "collection_cleaned.insert_many(data_dict)\n",
    "\n",
    "print(\"✅ Cleaned data re-uploaded to MongoDB successfully!\")"
   ]
  },
  {
   "cell_type": "code",
   "execution_count": 2,
   "id": "a80186d3",
   "metadata": {},
   "outputs": [],
   "source": [
    "import pandas as pd\n",
    "\n",
    "df = pd.read_csv(\"netflix_titles.csv\")  # or the correct file name"
   ]
  },
  {
   "cell_type": "code",
   "execution_count": 3,
   "id": "048fc14d",
   "metadata": {},
   "outputs": [],
   "source": [
    "df['combined'] = df['title'] + ' ' + df['description'] + ' ' + df['listed_in'] + ' ' + df['cast']\n",
    "df['combined'] = df['combined'].fillna('')"
   ]
  },
  {
   "cell_type": "code",
   "execution_count": 4,
   "id": "ee6ee290",
   "metadata": {},
   "outputs": [],
   "source": [
    "from sklearn.feature_extraction.text import TfidfVectorizer\n",
    "\n",
    "tfidf = TfidfVectorizer(stop_words='english')\n",
    "tfidf_matrix = tfidf.fit_transform(df['combined'])"
   ]
  },
  {
   "cell_type": "code",
   "execution_count": 5,
   "id": "e29b60a2",
   "metadata": {},
   "outputs": [],
   "source": [
    "from sklearn.metrics.pairwise import cosine_similarity\n",
    "\n",
    "cosine_sim = cosine_similarity(tfidf_matrix, tfidf_matrix)"
   ]
  },
  {
   "cell_type": "code",
   "execution_count": 7,
   "id": "6f7afce2",
   "metadata": {},
   "outputs": [],
   "source": [
    "indices = pd.Series(df.index, index=df['title'].str.lower())\n",
    "\n",
    "def get_recommendations(title, cosine_sim=cosine_sim):\n",
    "    title = title.lower()\n",
    "    if title not in indices:\n",
    "        return \"Title not found!\"\n",
    "    \n",
    "    idx = indices[title]\n",
    "    sim_scores = list(enumerate(cosine_sim[idx]))\n",
    "    sim_scores = sorted(sim_scores, key=lambda x: x[1], reverse=True)[1:6]\n",
    "    movie_indices = [i[0] for i in sim_scores]\n",
    "    \n",
    "    return df['title'].iloc[movie_indices]"
   ]
  },
  {
   "cell_type": "code",
   "execution_count": 8,
   "id": "68e4055f",
   "metadata": {},
   "outputs": [
    {
     "data": {
      "text/plain": [
       "3298           Wild District\n",
       "2921          Narcos: Mexico\n",
       "6672               El Cartel\n",
       "1268    El final del paraíso\n",
       "2134         The Great Heist\n",
       "Name: title, dtype: object"
      ]
     },
     "execution_count": 8,
     "metadata": {},
     "output_type": "execute_result"
    }
   ],
   "source": [
    "get_recommendations(\"Narcos\")"
   ]
  },
  {
   "cell_type": "code",
   "execution_count": 9,
   "id": "0fa604b2",
   "metadata": {},
   "outputs": [
    {
     "data": {
      "text/plain": [
       "2668                      Earth and Blood\n",
       "3976               The Eagle of El-Se'eed\n",
       "3425                          Street Flow\n",
       "4399                              Warrior\n",
       "697     Elite Short Stories: Carla Samuel\n",
       "Name: title, dtype: object"
      ]
     },
     "execution_count": 9,
     "metadata": {},
     "output_type": "execute_result"
    }
   ],
   "source": [
    "get_recommendations(\"Ganglands\")"
   ]
  }
 ],
 "metadata": {
  "kernelspec": {
   "display_name": "Python 3",
   "language": "python",
   "name": "python3"
  },
  "language_info": {
   "codemirror_mode": {
    "name": "ipython",
    "version": 3
   },
   "file_extension": ".py",
   "mimetype": "text/x-python",
   "name": "python",
   "nbconvert_exporter": "python",
   "pygments_lexer": "ipython3",
   "version": "3.12.2"
  }
 },
 "nbformat": 4,
 "nbformat_minor": 5
}
